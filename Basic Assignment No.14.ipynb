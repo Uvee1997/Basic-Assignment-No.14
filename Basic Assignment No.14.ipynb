{
 "cells": [
  {
   "cell_type": "markdown",
   "id": "23f169ef",
   "metadata": {},
   "source": [
    "1) What does RGBA stands for?\n",
    "\n",
    ":- Red-Green-Blue-Alpha"
   ]
  },
  {
   "cell_type": "markdown",
   "id": "ed497f15",
   "metadata": {},
   "source": [
    "2) From the pillow module, how do you get RGBA value of any images?\n",
    "\n",
    ":- In pillow, RGBA values are represented by a tuple of four integer values."
   ]
  },
  {
   "cell_type": "markdown",
   "id": "c6f89414",
   "metadata": {},
   "source": [
    "3) What is the box tuple, & how does it works?\n",
    "\n",
    ":- A tuple of four integer coordinates that represent a rectangular region in an image."
   ]
  },
  {
   "cell_type": "markdown",
   "id": "df97a94f",
   "metadata": {},
   "source": [
    "4) Use your image and load in notebook then, How can you find out the width and height of an\n",
    "   Image object?\n",
    "    \n",
    ":- <img src = \"pexels-james-wheeler.jpg\" style=\"width:200px;height:400px\"/>    "
   ]
  },
  {
   "cell_type": "markdown",
   "id": "4bee8b87",
   "metadata": {},
   "source": [
    "5) What method would you call to get Image object for a 100×100 image, excluding the lower-left\n",
    "   quarter of it?\n",
    "   \n",
    ":- Step 1: Import the required library. Skimage package enables us to do image processing using Python. ...\n",
    "   Step 2 : Import the image. Once we have all the libraries in place, we need to import our image file to python. ...\n",
    "   Step 3 : Find the number of Stars. ...\n",
    "   Step 4 : Validated whether we captured all the stars.   "
   ]
  },
  {
   "cell_type": "markdown",
   "id": "8c153c13",
   "metadata": {},
   "source": [
    "6) After making changes to an Image object, how could you save it as an image file?\n",
    "\n",
    ":- Use PIL.save()"
   ]
  },
  {
   "cell_type": "markdown",
   "id": "48732aaa",
   "metadata": {},
   "source": [
    "7) What module contain pillow's shape-drawing code ?\n",
    "\n",
    ":- ImageDraw Module"
   ]
  },
  {
   "cell_type": "markdown",
   "id": "1f82a627",
   "metadata": {},
   "source": [
    "8) Image objects do not have drawing methods. What kind of object does? How do you get this kind of object?\n",
    "\n",
    ":- An object type is a user-defined composite datatype that encapsulates a data structure along with the functions and \n",
    "   procedures needed to manipulate the data. There are 3 different kind object.\n",
    "   Direct object, Indirect object & Object preposition\n",
    "   To get this kind of objects use inbulit function type() & isinstance() "
   ]
  }
 ],
 "metadata": {
  "kernelspec": {
   "display_name": "Python 3 (ipykernel)",
   "language": "python",
   "name": "python3"
  },
  "language_info": {
   "codemirror_mode": {
    "name": "ipython",
    "version": 3
   },
   "file_extension": ".py",
   "mimetype": "text/x-python",
   "name": "python",
   "nbconvert_exporter": "python",
   "pygments_lexer": "ipython3",
   "version": "3.9.7"
  }
 },
 "nbformat": 4,
 "nbformat_minor": 5
}
